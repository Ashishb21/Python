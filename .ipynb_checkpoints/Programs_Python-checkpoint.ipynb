{
 "cells": [
  {
   "cell_type": "code",
   "execution_count": null,
   "metadata": {},
   "outputs": [],
   "source": [
    "#1.Frisbuzz \n",
    "#2.Prime No\n",
    "#3.Fibonaaaci\n",
    "#4.Find last 3 items and reverse them\n",
    "#5.compute sum of numbers in list.\n",
    "#6.email split Find name and email\n",
    "#7.WAP to output first name and lastname from list using map function.\n",
    "#8.compare 2 lists and return smallest values \n",
    "#9.using lists comprehension find even numbers list\n",
    "#10.Sort elements using Bubble sort\n",
    "#11.Remove all digits from string\n",
    "#12.Find character and count the occurance of character \n",
    "#13.Armstrong\n",
    "#14.unique alphanumeric (4 char) combinations of char + numbers.\n",
    "#15.Sort elements using Quick sort\n",
    "#16.Find the longest palindrome in string.\n",
    "#17.Find string is it palindrome or not .\n",
    "#18.To find String is Anagram or not .\n",
    "#19.Reverse a string \n",
    "#20.Find similar elements in list and remove similar elements from list.\n",
    "#21.Find Duplicate elements in array \n",
    "#22.Factorial\n",
    "#23.Find sum of numbers based on condition \n",
    "#24.Find similar elements from 3 lists \n",
    "#25.Leap Year \n",
    "#26.Ciper Text\n",
    "#27.find the missing value in an sorted array.\n",
    "#28.Password criteria check\n",
    "#29.sum of elements in 2 lists\n",
    "#30.Factorial recursion\n",
    "#31.Find text in string .\n",
    "#32.Find largest GCD of 2 nos\n",
    "#33.Replace values without using third variable\n",
    "#34.Remove all occurance of element in list\n",
    "#35. Binary Search "
   ]
  },
  {
   "cell_type": "code",
   "execution_count": 1,
   "metadata": {},
   "outputs": [
    {
     "name": "stdout",
     "output_type": "stream",
     "text": [
      "0frisbuzz\n",
      "3fris\n",
      "5buzz\n",
      "6fris\n",
      "9fris\n",
      "10buzz\n",
      "12fris\n",
      "15frisbuzz\n",
      "18fris\n",
      "20buzz\n",
      "21fris\n",
      "24fris\n",
      "25buzz\n",
      "27fris\n"
     ]
    }
   ],
   "source": [
    "#Frisbuzz\n",
    "numbers = [ num for num in range(30)]\n",
    "for num in numbers :\n",
    "    if (num%3==0 and num%5==0):\n",
    "        print(str(num)+\"frisbuzz\")\n",
    "            #break\n",
    "    elif (num%3==0):\n",
    "        print(str(num)+\"fris\")\n",
    "    else:\n",
    "        if(num%5==0):\n",
    "            print(str(num)+\"buzz\")\n",
    "       "
   ]
  },
  {
   "cell_type": "code",
   "execution_count": 6,
   "metadata": {},
   "outputs": [
    {
     "name": "stdout",
     "output_type": "stream",
     "text": [
      "2 Prime\n",
      "3 Prime\n",
      "5 Prime\n",
      "7 Prime\n",
      "11 Prime\n",
      "13 Prime\n"
     ]
    }
   ],
   "source": [
    "# prime no \n",
    "n=15\n",
    "for num in range(2,n) :\n",
    "    for i in range(2,num):\n",
    "        if (num % i) == 0:\n",
    "            #print(num,\"Not Prime\")\n",
    "            break\n",
    "    else:\n",
    "        print(num ,\"Prime\")\n"
   ]
  },
  {
   "cell_type": "code",
   "execution_count": 33,
   "metadata": {},
   "outputs": [
    {
     "name": "stdout",
     "output_type": "stream",
     "text": [
      "[0, 1, 1, 2, 3, 5, 8, 13, 21, 34, 55, 89, 144, 233, 377, 610, 987, 1597, 2584, 4181, 6765]\n"
     ]
    },
    {
     "data": {
      "text/plain": [
       "17"
      ]
     },
     "execution_count": 33,
     "metadata": {},
     "output_type": "execute_result"
    }
   ],
   "source": [
    "#Fibonaaci\n",
    "prev=0\n",
    "nex=1\n",
    "out=0\n",
    "o=[0,1]\n",
    "for i in range(19):\n",
    "    out=prev+nex\n",
    "    o.append(out)\n",
    "    prev=nex\n",
    "    nex=out\n",
    "print(o)\n",
    "len([i for i in o if i<1000])"
   ]
  },
  {
   "cell_type": "code",
   "execution_count": 9,
   "metadata": {},
   "outputs": [
    {
     "data": {
      "text/plain": [
       "[10, 23, 34, 54, 12, 2, 0, 1]"
      ]
     },
     "execution_count": 9,
     "metadata": {},
     "output_type": "execute_result"
    }
   ],
   "source": [
    "#Find last 3 items and reverse them\n",
    "a=[10,23,34,54,12,1,0,2]\n",
    "out=a[-3:]\n",
    "out.reverse()\n",
    "a[:-3]+out"
   ]
  },
  {
   "cell_type": "code",
   "execution_count": 7,
   "metadata": {},
   "outputs": [
    {
     "name": "stdout",
     "output_type": "stream",
     "text": [
      "7\n"
     ]
    },
    {
     "data": {
      "text/plain": [
       "7"
      ]
     },
     "execution_count": 7,
     "metadata": {},
     "output_type": "execute_result"
    }
   ],
   "source": [
    "#compute sum of numbers is list\n",
    "a=[1,2,4]\n",
    "temp=0\n",
    "for item in a:\n",
    "    temp=item+temp\n",
    "print(temp)    \n",
    "# Method 2\n",
    "sum(a)"
   ]
  },
  {
   "cell_type": "code",
   "execution_count": 8,
   "metadata": {},
   "outputs": [
    {
     "data": {
      "text/plain": [
       "['yahoo.com', 'abc.com', 'gmail.com']"
      ]
     },
     "execution_count": 8,
     "metadata": {},
     "output_type": "execute_result"
    }
   ],
   "source": [
    "#email split \n",
    "e=[]\n",
    "email =['ashish@gmail.com','aa@yahoo.com','xyz@abc.com','aaa@gmail.com']\n",
    "for item in email:\n",
    "    a=item.split(\"@\")\n",
    "    e.append(a[1])\n",
    "list(set(e))"
   ]
  },
  {
   "cell_type": "code",
   "execution_count": 9,
   "metadata": {},
   "outputs": [
    {
     "data": {
      "text/plain": [
       "['gmail.com', 'yahoo.com', 'abc.com', 'gmail.com']"
      ]
     },
     "execution_count": 9,
     "metadata": {},
     "output_type": "execute_result"
    }
   ],
   "source": [
    "# email split using map\n",
    "def emailf(item):\n",
    "    em=item.split(\"@\")[1]\n",
    "    return em\n",
    "list(map(emailf,email))"
   ]
  },
  {
   "cell_type": "code",
   "execution_count": 10,
   "metadata": {},
   "outputs": [
    {
     "data": {
      "text/plain": [
       "[('Dr.', 'Brooks'),\n",
       " ('Dr.', 'Collins-Thompson'),\n",
       " ('Dr.', 'Vydiswaran'),\n",
       " ('Dr.', 'Romero')]"
      ]
     },
     "execution_count": 10,
     "metadata": {},
     "output_type": "execute_result"
    }
   ],
   "source": [
    "# WAP to output first name and lastname from list using map function \n",
    "people = ['Dr. Christopher Brooks', 'Dr. Kevyn Collins-Thompson', 'Dr. VG Vinod Vydiswaran', 'Dr. Daniel Romero']\n",
    "\n",
    "def name(person):\n",
    "    fname=person.split(\" \")[0]\n",
    "    lastname=person.split(\" \")[-1]\n",
    "    return fname,lastname\n",
    "\n",
    "#list(map(name,people))\n",
    "list(map(lambda x:(x.split(\" \")[0],x.split(\" \")[-1]),people))"
   ]
  },
  {
   "cell_type": "code",
   "execution_count": 13,
   "metadata": {},
   "outputs": [
    {
     "data": {
      "text/plain": [
       "[1, 2, 1, 1, 5]"
      ]
     },
     "execution_count": 13,
     "metadata": {},
     "output_type": "execute_result"
    }
   ],
   "source": [
    "#compare 2 lists and return smallest values \n",
    "a=[1,2,3,42,5]\n",
    "b=[10,22,1,1,22]\n",
    "x=list(map(min,a,b))\n",
    "x"
   ]
  },
  {
   "cell_type": "code",
   "execution_count": 14,
   "metadata": {},
   "outputs": [
    {
     "data": {
      "text/plain": [
       "[3, 5, 7, 5]"
      ]
     },
     "execution_count": 14,
     "metadata": {},
     "output_type": "execute_result"
    }
   ],
   "source": [
    "#sum of 2 lists\n",
    "a=[1,2,3,4]\n",
    "b=[2,3,4,1]\n",
    "def sum(a,b):\n",
    "    return a+b\n",
    "#list(map(lambda x,y: x+y,a,b))\n",
    "list(map(sum,a,b))"
   ]
  },
  {
   "cell_type": "code",
   "execution_count": 15,
   "metadata": {},
   "outputs": [
    {
     "data": {
      "text/plain": [
       "[0, 2, 4, 6, 8, 10, 12, 14, 16, 18]"
      ]
     },
     "execution_count": 15,
     "metadata": {},
     "output_type": "execute_result"
    }
   ],
   "source": [
    "#lists comprehension even numbers list\n",
    "\n",
    "mylist=[num for num in range(0,100) if num%2==0]\n",
    "mylist[0:10]"
   ]
  },
  {
   "cell_type": "code",
   "execution_count": 16,
   "metadata": {},
   "outputs": [
    {
     "data": {
      "text/plain": [
       "['ab00',\n",
       " 'ab01',\n",
       " 'ab02',\n",
       " 'ab03',\n",
       " 'ab04',\n",
       " 'ab05',\n",
       " 'ab06',\n",
       " 'ab07',\n",
       " 'ab08',\n",
       " 'ab09']"
      ]
     },
     "execution_count": 16,
     "metadata": {},
     "output_type": "execute_result"
    }
   ],
   "source": [
    "#unique combinations of char + numbers \n",
    "lowercase = 'abcdefghijklmnopqrstuvwxyz'\n",
    "digits = '0123456789'\n",
    "\n",
    "answer = [a+b+c+d for a in lowercase for b in lowercase for c in digits for d in digits]\n",
    "answer[100:110]"
   ]
  },
  {
   "cell_type": "code",
   "execution_count": 11,
   "metadata": {},
   "outputs": [
    {
     "data": {
      "text/plain": [
       "-1"
      ]
     },
     "execution_count": 11,
     "metadata": {},
     "output_type": "execute_result"
    }
   ],
   "source": [
    "# Find \n",
    "s=['asbssss']\n",
    "\"ahjhjhj\".find('z')# return -1 if the element is not present "
   ]
  },
  {
   "cell_type": "code",
   "execution_count": 18,
   "metadata": {},
   "outputs": [
    {
     "name": "stdout",
     "output_type": "stream",
     "text": [
      "[1, 2, 4, 6, 32, 32, 45, 100, 129, 198, 238]\n"
     ]
    }
   ],
   "source": [
    "#Bubble sort \n",
    "mylist=[129,32,2,1,45,100,32,198,4,238,6]\n",
    "\n",
    "for i in enumerate(mylist):\n",
    "    for i in range(len(mylist)-1):\n",
    "        if mylist[i]>mylist[i+1]:\n",
    "            temp=mylist[i]\n",
    "            mylist[i]=mylist[i+1]\n",
    "            mylist[i+1]=temp\n",
    "\n",
    "print(mylist)   "
   ]
  },
  {
   "cell_type": "code",
   "execution_count": 24,
   "metadata": {},
   "outputs": [
    {
     "data": {
      "text/plain": [
       "'asjsn'"
      ]
     },
     "execution_count": 24,
     "metadata": {},
     "output_type": "execute_result"
    }
   ],
   "source": [
    "#Remove all digits from string \n",
    "s='asjsn123'\n",
    "\n",
    "\"\".join([str(i) for i in s if str(i).isalpha()])"
   ]
  },
  {
   "cell_type": "code",
   "execution_count": 23,
   "metadata": {},
   "outputs": [
    {
     "data": {
      "text/plain": [
       "'a4a4a4a4b3b3b3'"
      ]
     },
     "execution_count": 23,
     "metadata": {},
     "output_type": "execute_result"
    }
   ],
   "source": [
    "#Find character and count \n",
    "s='aaaabbb'\n",
    "\n",
    "\"\".join([str(i)+str(s.count(i)) for i in s])"
   ]
  },
  {
   "cell_type": "code",
   "execution_count": 87,
   "metadata": {},
   "outputs": [
    {
     "name": "stdout",
     "output_type": "stream",
     "text": [
      "text is present\n"
     ]
    }
   ],
   "source": [
    "#Find text is present in string\n",
    "s='abcNjhgAhGjhfhAljhRkhgRbhjbevfhO'\n",
    "text='NAGARRO'\n",
    "j=0\n",
    "for i in range(len(s)):\n",
    "    if(s[i]==text[j]):\n",
    "        j=j+1\n",
    "if(j==len(text)):\n",
    "    print(\"text is present\")\n",
    "else:\n",
    "    print(\"text is not present\")"
   ]
  },
  {
   "cell_type": "code",
   "execution_count": 80,
   "metadata": {},
   "outputs": [
    {
     "name": "stdout",
     "output_type": "stream",
     "text": [
      "{'DED': 3, '123456789987654321': 18, '67899876': 8, 'ABCDEDCBA': 9, '456789987654': 12, '34567899876543': 14, 'BCDEDCB': 7, 'ABA': 3, '5678998765': 10, '2345678998765432': 16, 'CDEDC': 5, '789987': 6, '8998': 4}\n"
     ]
    },
    {
     "data": {
      "text/plain": [
       "('123456789987654321', 18)"
      ]
     },
     "execution_count": 80,
     "metadata": {},
     "output_type": "execute_result"
    }
   ],
   "source": [
    "#longest palindrome\n",
    "s='HYTBCABADEFGHABCDEDCBAGHTFYW123456789987654321ZWETYGDE'\n",
    "out1=[]\n",
    "def substring(x):\n",
    "    for i in range(len(x)):\n",
    "        a=x[i:]\n",
    "        b=x[:-i]\n",
    "        out1.append(a)\n",
    "        out1.append(b)\n",
    "        \n",
    "    return out1\n",
    "\n",
    "for i in range(len(s)):\n",
    "    substring(s[i:])    \n",
    "final=set([item for item in out1 if len(item)>2])\n",
    "final\n",
    "palind={item:len(item) for item in final if item==item[::-1]}\n",
    "print(palind)\n",
    "sorted(palind.items(),reverse=True, key=lambda x: x[1])[0]"
   ]
  },
  {
   "cell_type": "markdown",
   "metadata": {},
   "source": [
    "Eg: \n",
    "S- ccdaabcdbb \n",
    "n=2 - substrings-- ab, cd \n",
    "Output: 2 \n",
    "Explanation: \n",
    "ccdaabcdbb -> ccdacdbb -> cabb -> cb (length=2) \n"
   ]
  },
  {
   "cell_type": "code",
   "execution_count": 12,
   "metadata": {},
   "outputs": [
    {
     "data": {
      "text/plain": [
       "[True, None, None, None, None, None]"
      ]
     },
     "execution_count": 12,
     "metadata": {},
     "output_type": "execute_result"
    }
   ],
   "source": [
    "# element wise string compare \n",
    "a=['ashish']\n",
    "b=['aaancy']\n",
    "r=[j for i in a for j in i]\n",
    "s=[j for i in b for j in i]\n",
    "def compare(a,b):\n",
    "    if a==b:\n",
    "        return True\n",
    "list(map(compare,r,s))   "
   ]
  },
  {
   "cell_type": "code",
   "execution_count": 17,
   "metadata": {},
   "outputs": [
    {
     "name": "stdout",
     "output_type": "stream",
     "text": [
      "[3, 5, 10]\n"
     ]
    },
    {
     "data": {
      "text/plain": [
       "{3, 5, 10}"
      ]
     },
     "execution_count": 17,
     "metadata": {},
     "output_type": "execute_result"
    }
   ],
   "source": [
    "#Find similar elements in list and remove similar elements from list \n",
    "L1=[1,2,3,4,5,10]\n",
    "L2=[1,20,12,12,2,4]\n",
    "x=[x for x in L1 if not x in L2]\n",
    "print(x) \n",
    "#Method2\n",
    "set(L1)-set(L2)"
   ]
  },
  {
   "cell_type": "code",
   "execution_count": 18,
   "metadata": {},
   "outputs": [],
   "source": [
    "#Quicksort\n",
    "arr=[1,12,3,4,2]\n",
    "def quicksort(arr):\n",
    "    if len(arr)<1:\n",
    "        return arr\n",
    "    pivot =arr[len(arr)//2]\n",
    "    left =[x for x in arr if x<pivot]\n",
    "    right=[x for x in arr if x>pivot]\n",
    "    middle =[x for x in arr if x==pivot]\n",
    "    return quicksort(left)+middle+quicksort(right)"
   ]
  },
  {
   "cell_type": "code",
   "execution_count": 19,
   "metadata": {},
   "outputs": [
    {
     "data": {
      "text/plain": [
       "120"
      ]
     },
     "execution_count": 19,
     "metadata": {},
     "output_type": "execute_result"
    }
   ],
   "source": [
    "#Factorial recursion\n",
    "def factorial(n):\n",
    "    if n==0:\n",
    "        return 1\n",
    "    else:\n",
    "        return n*factorial(n-1)\n",
    "factorial(5)"
   ]
  },
  {
   "cell_type": "code",
   "execution_count": 20,
   "metadata": {},
   "outputs": [
    {
     "data": {
      "text/plain": [
       "24"
      ]
     },
     "execution_count": 20,
     "metadata": {},
     "output_type": "execute_result"
    }
   ],
   "source": [
    "#factorial\n",
    "n=4\n",
    "p=1\n",
    "for i in range(1,n+1):\n",
    "    p=p*i\n",
    "p    "
   ]
  },
  {
   "cell_type": "code",
   "execution_count": 21,
   "metadata": {},
   "outputs": [
    {
     "data": {
      "text/plain": [
       "55"
      ]
     },
     "execution_count": 21,
     "metadata": {},
     "output_type": "execute_result"
    }
   ],
   "source": [
    "#Fibonacci factorial\n",
    "0,1,1,2,3,5\n",
    "def fibonaci(n):\n",
    "    if n<2:\n",
    "        return n\n",
    "    return fibonaci(n-1)+fibonaci(n-2)\n",
    "fibonaci(10)"
   ]
  },
  {
   "cell_type": "code",
   "execution_count": 22,
   "metadata": {},
   "outputs": [],
   "source": [
    "#find digits and remove in lists\n",
    "#s=['assn12','djbdj67']\n",
    "list=['ass11','wwww2']\n",
    "def removedigit(s):\n",
    "        return \"\".join([str(i) for i in s if not str(i).isdigit()])\n",
    "#list(map(removedigit,s))\n",
    "list = [''.join(x for x in i if x.isalpha()) for i in list] "
   ]
  },
  {
   "cell_type": "code",
   "execution_count": 23,
   "metadata": {},
   "outputs": [
    {
     "name": "stdout",
     "output_type": "stream",
     "text": [
      "2\n"
     ]
    }
   ],
   "source": [
    "# sum of numbers based on condition \n",
    "n=128\n",
    "temp=0\n",
    "a=[int(d) for d in str(n)]\n",
    "for item in a:\n",
    "    if item==1 or item ==2 or item ==5 or item ==7 or item ==3 :\n",
    "        out= 0\n",
    "    elif item == 0 or item ==4 or item ==6 or item ==9:\n",
    "        out =1\n",
    "    else:\n",
    "        out =2\n",
    "    temp = temp+out \n",
    "print(temp)    "
   ]
  },
  {
   "cell_type": "code",
   "execution_count": 24,
   "metadata": {},
   "outputs": [
    {
     "name": "stdout",
     "output_type": "stream",
     "text": [
      "False\n",
      "True\n",
      "True\n",
      "True\n"
     ]
    }
   ],
   "source": [
    "#Leap Year year %4 leap year year %100 not a leap year year%400 leap year\n",
    "\n",
    "years=[2100,1992,1243,1999]\n",
    "leap=False\n",
    "for year in years :\n",
    "    if year%4==0:\n",
    "        leap=True\n",
    "    if year%100==0:\n",
    "        leap=False\n",
    "    if year%400==0:\n",
    "        leap=True\n",
    "    print(leap)        \n"
   ]
  },
  {
   "cell_type": "code",
   "execution_count": 1,
   "metadata": {},
   "outputs": [
    {
     "data": {
      "text/plain": [
       "'alpcce'"
      ]
     },
     "execution_count": 1,
     "metadata": {},
     "output_type": "execute_result"
    }
   ],
   "source": [
    "#Cipher text \n",
    "\n",
    "x=['a','b','c','d','e','f','g','h','i','j','k','l','m','n','o','p','q','r','s','t','u','v','w','x','y','z']\n",
    "\n",
    "input1 ='ximzzb'\n",
    "output='alpcce'\n",
    "\n",
    "out=[]\n",
    "for item in input1:\n",
    "    if item in x:\n",
    "        ind=x.index(item)\n",
    "        if ind==23:\n",
    "            ind=0\n",
    "            out.append(x[ind])\n",
    "        elif ind==24:\n",
    "            ind=1\n",
    "            out.append(x[ind])\n",
    "        elif ind==25:\n",
    "            ind=2\n",
    "            out.append(x[ind])\n",
    "        else:\n",
    "            ind=ind+3\n",
    "            out.append(x[ind])\n",
    "\"\".join(out)       "
   ]
  },
  {
   "cell_type": "code",
   "execution_count": 5,
   "metadata": {},
   "outputs": [
    {
     "data": {
      "text/plain": [
       "[1]"
      ]
     },
     "execution_count": 5,
     "metadata": {},
     "output_type": "execute_result"
    }
   ],
   "source": [
    "# Find similar elements from 3 lists \n",
    "\n",
    "a=[1,2,3,4]\n",
    "b=[1,11,12,33]\n",
    "c=[1,21,20]\n",
    "#Method1\n",
    "#set(a)&set(b)&set(c)\n",
    "[i for i in a if i in b if i in c]"
   ]
  },
  {
   "cell_type": "code",
   "execution_count": 31,
   "metadata": {},
   "outputs": [],
   "source": [
    "# Find consequetive sequence in string\n",
    "count=0\n",
    "prev=None\n",
    "max_count=0\n",
    "max_char=None\n",
    "s=\"uuuuuassaaaaaa\"\n",
    "\n",
    "for seq in s:\n",
    "    if prev==seq:\n",
    "        count=count+1\n",
    "    else :\n",
    "        count=1\n",
    "    if count>max_count:\n",
    "        max_count=count\n",
    "        max_char=seq\n",
    "    prev=seq    "
   ]
  },
  {
   "cell_type": "code",
   "execution_count": 32,
   "metadata": {},
   "outputs": [
    {
     "data": {
      "text/plain": [
       "{6: 'a'}"
      ]
     },
     "execution_count": 32,
     "metadata": {},
     "output_type": "execute_result"
    }
   ],
   "source": [
    "{max_count:max_char}"
   ]
  },
  {
   "cell_type": "code",
   "execution_count": 39,
   "metadata": {},
   "outputs": [],
   "source": [
    "#Write a program which will find all such numbers which are divisible by 7 but are not a multiple of 5,\n",
    "#between 2000 and 3200 (both included).\n",
    "numbers=[num for num in range(2000,3201) if num%7==0 & (not num%5==0)]"
   ]
  },
  {
   "cell_type": "code",
   "execution_count": 45,
   "metadata": {},
   "outputs": [
    {
     "data": {
      "text/plain": [
       "120"
      ]
     },
     "execution_count": 45,
     "metadata": {},
     "output_type": "execute_result"
    }
   ],
   "source": [
    "# factorial\n",
    "def fact(n):\n",
    "    if n==0:\n",
    "        return 1\n",
    "    return n*fact(n-1)\n",
    "fact(5)"
   ]
  },
  {
   "cell_type": "code",
   "execution_count": 49,
   "metadata": {},
   "outputs": [
    {
     "data": {
      "text/plain": [
       "['2', '3']"
      ]
     },
     "execution_count": 49,
     "metadata": {},
     "output_type": "execute_result"
    }
   ],
   "source": [
    "# #Example:\n",
    "# If the following words is given as input to the program:\n",
    "\n",
    "s=' 2 cats and 3 dogs.'\n",
    "\n",
    "# Then, the output of the program should be:\n",
    "\n",
    "# ['2', '3']\n",
    "\n",
    "a=[item for item in s.split(\" \") if item.isdigit()]\n",
    "\n",
    "a"
   ]
  },
  {
   "cell_type": "code",
   "execution_count": 71,
   "metadata": {},
   "outputs": [
    {
     "name": "stdout",
     "output_type": "stream",
     "text": [
      "['ABd1234@1']\n",
      "ABd1234@1\n"
     ]
    }
   ],
   "source": [
    "# A website requires the users to input username and password to register. Write a program to check the validity of password input by users.\n",
    "# Following are the criteria for checking the password:\n",
    "# 1. At least 1 letter between [a-z]\n",
    "# 2. At least 1 number between [0-9]\n",
    "# 1. At least 1 letter between [A-Z]\n",
    "# 3. At least 1 character from [$#@]\n",
    "# 4. Minimum length of transaction password: 6\n",
    "# 5. Maximum length of transaction password: 12\n",
    "# Your program should accept a sequence of comma separated passwords and will check them according to the above criteria. Passwords that match the criteria are to be printed, each separated by a comma.\n",
    "# Example\n",
    "# If the following passwords are given as input to the program:\n",
    "input1 = \"ABd1234@1,a F1#,2w3E*,2We3345\"\n",
    "# Then, the output of the program should be:\n",
    "# ABd1234@1\n",
    "\n",
    "import re\n",
    "\n",
    "input2=[ x.strip() for x in input1.split(\",\") ]\n",
    "import re\n",
    "value = []\n",
    "#items=[x for x in input2.split(',')]\n",
    "for p in input2:\n",
    "    if len(p)<6 or len(p)>12:\n",
    "        continue\n",
    "    elif not re.search(r\"[a-z]\",p):\n",
    "        continue\n",
    "    elif not re.search(\"[0-9]\",p):\n",
    "        continue\n",
    "    elif not re.search(\"[A-Z]\",p):\n",
    "        continue\n",
    "    elif not re.search(\"[$#@]\",p):\n",
    "        continue\n",
    "    elif re.search(\"\\s\",p):\n",
    "        continue\n",
    "    value.append(p)\n",
    "    print(value)\n",
    "print (\",\".join(value))\n"
   ]
  },
  {
   "cell_type": "code",
   "execution_count": 102,
   "metadata": {},
   "outputs": [
    {
     "name": "stdout",
     "output_type": "stream",
     "text": [
      "['ABd1234@1']\n",
      "['ABd1234@1']\n"
     ]
    },
    {
     "data": {
      "text/plain": [
       "[]"
      ]
     },
     "execution_count": 102,
     "metadata": {},
     "output_type": "execute_result"
    }
   ],
   "source": [
    "#Practice \n",
    "s=\"asnsnaaaab\"\n",
    "out=[]\n",
    "def substring(sub):\n",
    "    for i in range(len(sub)):\n",
    "        a=sub[i:]\n",
    "        b=sub[:-i]\n",
    "        out.append(a)\n",
    "        out.append(b)\n",
    "    return out\n",
    "\n",
    "for i in range(len(s)):\n",
    "    substring(s[i:])\n",
    "out=set([i for i in out if len(i)>2] )\n",
    "out1= {ch:item.count(ch) for item in out for ch in item  }\n",
    "sorted(out1.items(),key=lambda x:x[0],reverse=True)[0]\n",
    "\n",
    "prev=None\n",
    "max_count=0\n",
    "count=0\n",
    "max_char=None\n",
    "for curr in s:\n",
    "    if curr==prev:\n",
    "        count=count+1\n",
    "    else:\n",
    "        count=1\n",
    "    if count>max_count:\n",
    "        max_count=count\n",
    "        max_char=curr\n",
    "    prev=curr    \n",
    "{max_char:max_count}\n",
    "ans=[]\n",
    "s=\"ABd1234@1,a F1#,2w3E*,2We3345\"\n",
    "s1=[i for i in s.split(\",\")]\n",
    "for item in s1:\n",
    "    if len(item)<6 or len(item)>12:\n",
    "        continue\n",
    "    elif not re.search(\"[a-z]\",item):\n",
    "        continue\n",
    "    elif not re.search(\"[0-9]\",item):\n",
    "        continue\n",
    "    elif not re.search(\"[A-Z]\",item):\n",
    "        continue\n",
    "    elif not re.search(\"[$#@]\",item):\n",
    "        continue    \n",
    "    elif re.search(\"\\s\",item):\n",
    "        continue\n",
    "    ans.append(item)    \n",
    "    print(ans)\n",
    "\n",
    "[item for item in ans if item.isdigit()]  "
   ]
  },
  {
   "cell_type": "code",
   "execution_count": 109,
   "metadata": {},
   "outputs": [
    {
     "data": {
      "text/plain": [
       "[1, 2, 2, 1]"
      ]
     },
     "execution_count": 109,
     "metadata": {},
     "output_type": "execute_result"
    }
   ],
   "source": [
    "# find repeating characters in list\n",
    "s=[1,2,2,3,1,4,5,6]\n",
    "\n",
    "[item for item in s if s.count(item)>1]\n",
    "    "
   ]
  },
  {
   "cell_type": "code",
   "execution_count": 1,
   "metadata": {},
   "outputs": [
    {
     "name": "stdout",
     "output_type": "stream",
     "text": [
      "6.0\n"
     ]
    }
   ],
   "source": [
    "# find the missing value in an sorted array\n",
    "\n",
    "a=[1,2,3,4,5,7,8,9,10]\n",
    "\n",
    "sum_all = (len(a)+1)*(len(a)+2)/2\n",
    "sum_no=sum(a)\n",
    "\n",
    "print(sum_all-sum_no)"
   ]
  },
  {
   "cell_type": "code",
   "execution_count": 3,
   "metadata": {},
   "outputs": [
    {
     "data": {
      "text/plain": [
       "'much.very.program.this.like.i'"
      ]
     },
     "execution_count": 3,
     "metadata": {},
     "output_type": "execute_result"
    }
   ],
   "source": [
    "#Reverse the string\n",
    "s='i.like.this.program.very.much'\n",
    "a=s.split(\".\")\n",
    "\".\".join(a[::-1])"
   ]
  },
  {
   "cell_type": "code",
   "execution_count": 28,
   "metadata": {},
   "outputs": [
    {
     "name": "stdout",
     "output_type": "stream",
     "text": [
      "153 is armstrong\n"
     ]
    }
   ],
   "source": [
    "#Armstrong\n",
    "s=153\n",
    "x=0\n",
    "for item in str(s):\n",
    "    a=pow(int(item),3)\n",
    "    #print(a)\n",
    "    x= a+x\n",
    "if (x==s):\n",
    "    print(f\"{s} is armstrong\")\n",
    "else :\n",
    "    print(f\"{s} is not armstrong\")"
   ]
  },
  {
   "cell_type": "code",
   "execution_count": 32,
   "metadata": {},
   "outputs": [
    {
     "name": "stdout",
     "output_type": "stream",
     "text": [
      "string are anagram\n"
     ]
    }
   ],
   "source": [
    "# Anagram \n",
    "s='abcdefg'\n",
    "s1='bcafdge'\n",
    "\n",
    "if sorted(s1)==sorted(s):\n",
    "    print(\"string are anagram\")\n",
    "else:\n",
    "    print(\"string are not anagram\")\n",
    "    "
   ]
  },
  {
   "cell_type": "code",
   "execution_count": 6,
   "metadata": {},
   "outputs": [],
   "source": [
    "# Largest GCD of 2 nos\n",
    "#Naive Approach1\n",
    "def GCD(m,n):\n",
    "    \n",
    "    list1=[]\n",
    "    list2=[]\n",
    "    final=[]\n",
    "    for i in range (1,m+1):\n",
    "        if (m%i==0):\n",
    "            list1.append(i)\n",
    "    for j in range(1,n+1):\n",
    "        if (n%j==0):\n",
    "            list2.append(j)\n",
    "    \n",
    "    final=[i for i in list1 if i in list2]\n",
    "    return final[-1]\n",
    "#correct Method\n",
    "def GCD2(m,n):\n",
    "    final=[]\n",
    "    for i in range(1,min(m,n)+1):\n",
    "        if (m%i==0) and (n%i==0):\n",
    "            final.append(i)\n",
    "    return final[-1]        \n",
    "            "
   ]
  },
  {
   "cell_type": "code",
   "execution_count": 7,
   "metadata": {},
   "outputs": [
    {
     "data": {
      "text/plain": [
       "7"
      ]
     },
     "execution_count": 7,
     "metadata": {},
     "output_type": "execute_result"
    }
   ],
   "source": [
    "GCD2(14,63)"
   ]
  },
  {
   "cell_type": "code",
   "execution_count": 3,
   "metadata": {},
   "outputs": [
    {
     "name": "stdout",
     "output_type": "stream",
     "text": [
      "m=10,n=15\n",
      "m=15,n=10\n"
     ]
    }
   ],
   "source": [
    "#Replace values without using third variable\n",
    "m=10\n",
    "n=15\n",
    "print(f\"m={m},n={n}\")\n",
    "(m,n)=(n,m)\n",
    "print(f\"m={m},n={n}\")"
   ]
  },
  {
   "cell_type": "code",
   "execution_count": 14,
   "metadata": {},
   "outputs": [
    {
     "data": {
      "text/plain": [
       "False"
      ]
     },
     "execution_count": 14,
     "metadata": {},
     "output_type": "execute_result"
    }
   ],
   "source": [
    "#prime no with factors\n",
    "def computefac(n):\n",
    "    fact=[]\n",
    "    for i in range(1,n+1):\n",
    "        if n%i==0:\n",
    "            fact.append(i)\n",
    "    return fact\n",
    "\n",
    "def isprime(x):\n",
    "    return(computefac(x)==[1,x])\n",
    "\n",
    "isprime(9)       "
   ]
  },
  {
   "cell_type": "code",
   "execution_count": 1,
   "metadata": {},
   "outputs": [
    {
     "data": {
      "text/plain": [
       "[1, 2, 32, 1, 5, 6, 6]"
      ]
     },
     "execution_count": 1,
     "metadata": {},
     "output_type": "execute_result"
    }
   ],
   "source": [
    "#Remove all occuance of element in list\n",
    "\n",
    "mylist=[1,2,3,3,3,32,1,5,6,6]\n",
    "\n",
    "def remove(x):\n",
    "    while x in mylist:\n",
    "        mylist.remove(x)\n",
    "    return mylist    \n",
    "remove(3)        "
   ]
  },
  {
   "cell_type": "code",
   "execution_count": 8,
   "metadata": {},
   "outputs": [],
   "source": [
    "mylist[0:2]=str(mylist[0])+str(mylist[1])"
   ]
  },
  {
   "cell_type": "code",
   "execution_count": 9,
   "metadata": {},
   "outputs": [
    {
     "data": {
      "text/plain": [
       "['1', '2', 32, 1, 5, 6, 6]"
      ]
     },
     "execution_count": 9,
     "metadata": {},
     "output_type": "execute_result"
    }
   ],
   "source": [
    "o=[]\n",
    "out1=[]\n",
    "i=0\n",
    "j=2\n",
    "while j<len(mylist)+1: \n",
    "    o=[]\n",
    "    print(i,j)\n",
    "    for item in mylist[i:j]:\n",
    "        o.append(str(item))\n",
    "    f=\"\".join(o)\n",
    "    if int(f) <60:\n",
    "        out1.append(f)\n",
    "    #print(i,j)\n",
    "    i=i+2\n",
    "    j=j+2\n",
    "out1    "
   ]
  },
  {
   "cell_type": "code",
   "execution_count": 12,
   "metadata": {},
   "outputs": [],
   "source": [
    "#bubble sort\n",
    "mylist=[129,32,2,1,45,100,32,198,4,238,6]\n",
    "for i in enumerate (mylist):\n",
    "    for j in range(len(mylist)-1):\n",
    "        if (mylist[j]>mylist[j+1]):\n",
    "            (mylist[j],mylist[j+1])=(mylist[j+1],mylist[j])\n",
    "            "
   ]
  },
  {
   "cell_type": "code",
   "execution_count": 15,
   "metadata": {},
   "outputs": [
    {
     "data": {
      "text/plain": [
       "[1, 2, 4, 6, 32, 32, 45, 100, 129, 198, 238]"
      ]
     },
     "execution_count": 15,
     "metadata": {},
     "output_type": "execute_result"
    }
   ],
   "source": [
    "mylist"
   ]
  },
  {
   "cell_type": "code",
   "execution_count": 16,
   "metadata": {},
   "outputs": [],
   "source": [
    "#Binary Search\n",
    "mylist=[129,32,2,1,45,100,32,198,4,238,6]\n",
    "\n",
    "def binary(mylist,v,l,r):\n",
    "\n",
    "    if l-r==0:\n",
    "        return (False)\n",
    "    \n",
    "    mid=(l+r)//2\n",
    "    if mylist[mid]==v:\n",
    "        return(True)\n",
    "    if v<mylist[mid]:\n",
    "        return (binary(mylist,v,l,mid))\n",
    "    else:\n",
    "        return(binary(mylist,v,mid+1,r))"
   ]
  },
  {
   "cell_type": "code",
   "execution_count": 18,
   "metadata": {},
   "outputs": [
    {
     "data": {
      "text/plain": [
       "False"
      ]
     },
     "execution_count": 18,
     "metadata": {},
     "output_type": "execute_result"
    }
   ],
   "source": [
    "binary(mylist,10,0,11)"
   ]
  },
  {
   "cell_type": "code",
   "execution_count": null,
   "metadata": {},
   "outputs": [],
   "source": []
  }
 ],
 "metadata": {
  "kernelspec": {
   "display_name": "Python 3",
   "language": "python",
   "name": "python3"
  },
  "language_info": {
   "codemirror_mode": {
    "name": "ipython",
    "version": 3
   },
   "file_extension": ".py",
   "mimetype": "text/x-python",
   "name": "python",
   "nbconvert_exporter": "python",
   "pygments_lexer": "ipython3",
   "version": "3.7.3"
  }
 },
 "nbformat": 4,
 "nbformat_minor": 2
}
