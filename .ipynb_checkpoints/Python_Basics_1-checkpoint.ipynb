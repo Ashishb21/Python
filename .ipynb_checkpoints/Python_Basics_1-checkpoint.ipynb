{
 "cells": [
  {
   "cell_type": "raw",
   "metadata": {},
   "source": [
    "Python--Basis\n",
    "Anaconda--Installation\n",
    "Jupter Notebooks-- Shortcuts & Basic Commands  \n",
    "Print Statements({},.format,f')\n",
    "Variables\n",
    "Datatypes\n",
    "Conversion of data types (Type casting)\n",
    "Operator (in, not in , or ,and ,==)  \n",
    "Conditional Statements (If else nested if else)\n",
    "Looping(for ,while , nested loop)\n",
    "Control statements(break, continue)\n",
    "String manupulations(Accessing strings ,string methods)\n",
    "String Slicing\n",
    "Lists (Accessing Lists, List methods)\n",
    "Iterators\n",
    "Working with nested lists\n",
    "Tuples(Accessing tuples, working)\n",
    "Sets\n",
    "Lists vs tuples\n",
    "Dictionary(Accessing Dictionary,working)\n",
    "Modules(import,math,random,datetime,packages)\n",
    "Functions(defination,calling,arguments)\n",
    "Command line execution\n",
    "Files(Read,write)\n",
    "Advance Functions(map,lambda,zip,set,comprehension)\n",
    "Interview Programms \n",
    "Industry led problem statements \n",
    "\n",
    "Programs >>\n",
    "fibonacci\n",
    "Frizbuzz\n",
    "prime no\n",
    "factorial recursion\n",
    "reverse string\n",
    "palindrome\n",
    "count occurance of word in list\n",
    "binary sort\n",
    "bubble sort\n",
    "first last name from list using map\n",
    "unique combination char+numbers\n",
    "find min values in lists\n",
    "find values that are not in list\n",
    "count of elements in string with string+count"
   ]
  },
  {
   "cell_type": "code",
   "execution_count": 3,
   "metadata": {},
   "outputs": [
    {
     "name": "stdout",
     "output_type": "stream",
     "text": [
      "My name is Ashish and my age is  3398398 \n",
      "My name is Ashish and my age is 3398398\n",
      "My name is Ashish My age is 3398398\n",
      "my cgpa is 8.990\n",
      "my age is 3,398,398\n"
     ]
    }
   ],
   "source": [
    "#Print Different methods \n",
    "name ='Ashish'\n",
    "age= 3398398\n",
    "cgpa=8.9898\n",
    "Indian =True \n",
    "#Method1\n",
    "print(\"My name is {} and my age is  {} \".format(name,age))\n",
    "#Method2\n",
    "print(f'My name is {name} and my age is {age}')\n",
    "#Method3\n",
    "print(\"My name is \"+name ,\"My age is \"+str(age))\n",
    "#Method4\n",
    "print (\"my cgpa is {0:.3f}\".format(cgpa))\n",
    "# To convert numbers with comma\n",
    "print(\"my age is {0:,}\".format(age))"
   ]
  },
  {
   "cell_type": "code",
   "execution_count": 25,
   "metadata": {},
   "outputs": [
    {
     "data": {
      "text/plain": [
       "'0:00:00.png'"
      ]
     },
     "execution_count": 25,
     "metadata": {},
     "output_type": "execute_result"
    }
   ],
   "source": [
    "import random\n",
    "import os \n",
    "import datetime\n",
    "filename='{}.png'.format(os.getpid())\n",
    "filename1='{}.png'.format(datetime.timedelta())\n",
    "filename1"
   ]
  },
  {
   "cell_type": "code",
   "execution_count": 14,
   "metadata": {},
   "outputs": [
    {
     "name": "stdout",
     "output_type": "stream",
     "text": [
      "<class 'str'>\n",
      "<class 'NoneType'>\n",
      "<class 'bool'>\n",
      "<class 'float'>\n",
      "<class 'int'>\n",
      "<class 'function'>\n"
     ]
    }
   ],
   "source": [
    "# Datatypes Check\n",
    "print(type('name'))\n",
    "print(type(None))\n",
    "print(type(True))\n",
    "print(type(1.0))\n",
    "print(type(1))\n",
    "def f(x):\n",
    "    return x\n",
    "print(type(f))"
   ]
  },
  {
   "cell_type": "code",
   "execution_count": 44,
   "metadata": {},
   "outputs": [
    {
     "name": "stdout",
     "output_type": "stream",
     "text": [
      "2.5\n",
      "2\n",
      "1\n"
     ]
    }
   ],
   "source": [
    "#Division and Mod\n",
    "print(5/2)\n",
    "print(5//2) # output is integer\n",
    "print(5%2)"
   ]
  },
  {
   "cell_type": "code",
   "execution_count": 11,
   "metadata": {},
   "outputs": [
    {
     "name": "stdout",
     "output_type": "stream",
     "text": [
      "Ashish1\n",
      "AshishAshishAshish\n"
     ]
    }
   ],
   "source": [
    "#String Concatinate \n",
    "name ='Ashish'+str(1)\n",
    "print(name)\n",
    "#name='Ashish'+ 1\n",
    "#print(name) #error \n",
    "name = 'Ashish'*3\n",
    "print(name)"
   ]
  },
  {
   "cell_type": "code",
   "execution_count": null,
   "metadata": {},
   "outputs": [],
   "source": [
    "# Strings Concatinate 2\n",
    "by = \"You are\"\n",
    "az = \"doing a great \"\n",
    "io = \"job\"\n",
    "qy = \"keep it up!\"\n",
    "a=1\n",
    "message =by+\" \"+az+io+\", \"+qy +str(a)\n",
    "print(message)"
   ]
  },
  {
   "cell_type": "code",
   "execution_count": 1,
   "metadata": {},
   "outputs": [
    {
     "name": "stdout",
     "output_type": "stream",
     "text": [
      "Ashish is nice\n",
      "ashish\n",
      "3\n",
      "True\n",
      "False\n",
      "1\n",
      "False\n",
      "Ashish Is Nice\n",
      "Amit   is nice\n",
      "6\n",
      "Amit\n",
      "Amit\n"
     ]
    }
   ],
   "source": [
    "#String manupulations\n",
    "a='Amit  '\n",
    "s='ashish is nice'\n",
    "print(s.capitalize())\n",
    "print(s.split(\" \")[0])\n",
    "print(s.count('s'))\n",
    "print(s.islower())\n",
    "print(s.isupper())\n",
    "print(s.index('s'))\n",
    "print(s.istitle())\n",
    "print(s.title())\n",
    "print(s.replace('ashish',a))\n",
    "print(len(a))\n",
    "print(a.strip())\n",
    "print(a.rstrip())"
   ]
  },
  {
   "cell_type": "code",
   "execution_count": 45,
   "metadata": {},
   "outputs": [
    {
     "name": "stdout",
     "output_type": "stream",
     "text": [
      "['a', 1, 'Sunday', True, 1.5]\n"
     ]
    }
   ],
   "source": [
    "#lists\n",
    "mylist=[]\n",
    "mylist.append('a')\n",
    "mylist.append(1)\n",
    "mylist.append('Sunday')\n",
    "mylist.append(True)\n",
    "mylist.append(1.5)\n",
    "print(mylist)\n"
   ]
  },
  {
   "cell_type": "code",
   "execution_count": null,
   "metadata": {},
   "outputs": [],
   "source": [
    "#copy lists\n",
    "a=[1,2,2]\n",
    "b=list(a)\n",
    "b.append(3)\n",
    "print(a)\n",
    "print(b)"
   ]
  },
  {
   "cell_type": "code",
   "execution_count": 56,
   "metadata": {},
   "outputs": [
    {
     "name": "stdout",
     "output_type": "stream",
     "text": [
      "3\n"
     ]
    }
   ],
   "source": [
    "#How many 9 are there !\n",
    "nums = [4, 2, 23.4, 9, 545, 9, 1, 234.001, 5, 49, 8, 9 , 34, 52, 1, -2, 9.1, 4]\n",
    "how_many=nums.count(9)\n",
    "print(how_many)"
   ]
  },
  {
   "cell_type": "code",
   "execution_count": 57,
   "metadata": {},
   "outputs": [
    {
     "name": "stdout",
     "output_type": "stream",
     "text": [
      "14\n",
      "9\n",
      "0\n",
      "3\n",
      "6\n"
     ]
    }
   ],
   "source": [
    "#index\n",
    "music = \"Pull out your music and dancing can begin\"\n",
    "bio = [\"Metatarsal\", \"Metatarsal\", \"Fibula\", [], \"Tibia\", \"Tibia\", 43, \"Femur\", \"Occipital\", \"Metatarsal\"]\n",
    "\n",
    "print(music.index(\"m\"))\n",
    "print(music.index(\"your\"))\n",
    "\n",
    "print(bio.index(\"Metatarsal\"))\n",
    "print(bio.index([]))\n",
    "print(bio.index(43))"
   ]
  },
  {
   "cell_type": "code",
   "execution_count": 3,
   "metadata": {},
   "outputs": [
    {
     "name": "stdout",
     "output_type": "stream",
     "text": [
      "['The r', 'n in Sp', 'n...']\n",
      "The rain in Spain...\n"
     ]
    }
   ],
   "source": [
    "# Split \n",
    "song = \"The rain in Spain...\"\n",
    "wds = song.split('ai')\n",
    "print(wds)\n",
    "# join \n",
    "print('ai'.join(wds))"
   ]
  },
  {
   "cell_type": "code",
   "execution_count": 59,
   "metadata": {},
   "outputs": [
    {
     "name": "stdout",
     "output_type": "stream",
     "text": [
      "red;blue;green\n",
      "['red', 'blue', 'green']\n",
      "red***blue***green\n",
      "redbluegreen\n"
     ]
    }
   ],
   "source": [
    "#join\n",
    "wds = [\"red\", \"blue\", \"green\"]\n",
    "glue = ';'\n",
    "s = glue.join(wds)\n",
    "print(s)\n",
    "print(wds)\n",
    "\n",
    "print(\"***\".join(wds))\n",
    "print(\"\".join(wds))\n"
   ]
  },
  {
   "cell_type": "code",
   "execution_count": 48,
   "metadata": {},
   "outputs": [
    {
     "name": "stdout",
     "output_type": "stream",
     "text": [
      "[1, 2, 3, 4]\n"
     ]
    }
   ],
   "source": [
    "#adding 2 lists\n",
    "a=[1,2]\n",
    "b=[3,4]\n",
    "c=a+b\n",
    "print(c)"
   ]
  },
  {
   "cell_type": "code",
   "execution_count": 7,
   "metadata": {},
   "outputs": [
    {
     "name": "stdout",
     "output_type": "stream",
     "text": [
      "['1', '2', '3', '54', '65']\n"
     ]
    },
    {
     "data": {
      "text/plain": [
       "'1235465'"
      ]
     },
     "execution_count": 7,
     "metadata": {},
     "output_type": "execute_result"
    }
   ],
   "source": [
    "#lists integers string to lists\n",
    "#method1\n",
    "string_int=\"1,2,3,54,65\"\n",
    "list_int=string_int.split(\",\")    \n",
    "print(list_int)\n",
    "\"\".join(list_int)"
   ]
  },
  {
   "cell_type": "code",
   "execution_count": 52,
   "metadata": {},
   "outputs": [
    {
     "name": "stdout",
     "output_type": "stream",
     "text": [
      "1\n",
      "2\n",
      "3\n",
      "4\n",
      "5\n",
      "6\n",
      "0 ashish\n",
      "1 vikas\n",
      "2 prabhu\n",
      "1\n",
      "2\n",
      "3\n",
      "4\n",
      "5\n"
     ]
    }
   ],
   "source": [
    "#for loop in lists\n",
    "mylist=[1,2,3,4,5,6]\n",
    "mylist1=['ashish','vikas','prabhu']\n",
    "for item in mylist:\n",
    "    print(item)\n",
    "for key,item in enumerate(mylist1):\n",
    "    print(key,item)  \n",
    "for i in range(len(mylist)-1):\n",
    "    print(mylist[i])\n",
    "#iter\n",
    "out=[123,333,222]\n",
    "item=iter(out)    \n",
    "print(next(item))\n",
    "print(next(item))\n",
    "print(next(item))    "
   ]
  },
  {
   "cell_type": "code",
   "execution_count": 52,
   "metadata": {},
   "outputs": [
    {
     "name": "stdout",
     "output_type": "stream",
     "text": [
      "0 apple\n",
      "1 pear\n",
      "2 apricot\n",
      "3 cherry\n",
      "4 peach\n"
     ]
    }
   ],
   "source": [
    "#enumerate \n",
    "for counter, item in enumerate(['apple', 'pear', 'apricot', 'cherry', 'peach']):\n",
    "    print(counter, item)"
   ]
  },
  {
   "cell_type": "code",
   "execution_count": 55,
   "metadata": {},
   "outputs": [
    {
     "name": "stdout",
     "output_type": "stream",
     "text": [
      "apple\n",
      "pear\n",
      "['pear', 'apricot']\n",
      "['apple', 'pear', 'apricot', 'cherry', 'peach']\n",
      "['apple', 'pear', 'apricot']\n",
      "['peach']\n",
      "['peach', 'cherry', 'apricot', 'pear', 'apple']\n"
     ]
    }
   ],
   "source": [
    "# slicing\n",
    "mylist=['apple', 'pear', 'apricot', 'cherry', 'peach']\n",
    "print(mylist[0])\n",
    "print(mylist[1])\n",
    "print(mylist[1:3])\n",
    "print(mylist[:])\n",
    "print(mylist[:3])\n",
    "print(mylist[4:])\n",
    "# Reverse \n",
    "print(mylist[::-1])"
   ]
  },
  {
   "cell_type": "code",
   "execution_count": 99,
   "metadata": {},
   "outputs": [
    {
     "name": "stdout",
     "output_type": "stream",
     "text": [
      "Hi Joe Please come to my party on Saturday!\n",
      "Hi Amy Please come to my party on Saturday!\n",
      "Hi Brad Please come to my party on Saturday!\n",
      "Hi Angelina Please come to my party on Saturday!\n",
      "Hi Zuki Please come to my party on Saturday!\n",
      "Hi Thandi Please come to my party on Saturday!\n",
      "Hi Paris Please come to my party on Saturday!\n"
     ]
    }
   ],
   "source": [
    "# for loop \n",
    "for name in [\"Joe\", \"Amy\", \"Brad\", \"Angelina\", \"Zuki\", \"Thandi\", \"Paris\"]:\n",
    "    print(\"Hi\", name, \"Please come to my party on Saturday!\")"
   ]
  },
  {
   "cell_type": "code",
   "execution_count": 1,
   "metadata": {},
   "outputs": [],
   "source": [
    "import csv\n",
    "with open('./mpg.csv') as csvfile:\n",
    "    mpg=list(csv.DictReader(csvfile))"
   ]
  },
  {
   "cell_type": "code",
   "execution_count": 85,
   "metadata": {},
   "outputs": [
    {
     "data": {
      "text/plain": [
       "'18'"
      ]
     },
     "execution_count": 85,
     "metadata": {},
     "output_type": "execute_result"
    }
   ],
   "source": [
    "sum(float(d['cty']) for d in mpg)"
   ]
  },
  {
   "cell_type": "code",
   "execution_count": 13,
   "metadata": {},
   "outputs": [],
   "source": [
    "mytable=[x*y for x in range(1,10) for y in range(1,10)]\n",
    "mytable\n",
    "def times_tables():\n",
    "    lst = []\n",
    "    for i in range(10):\n",
    "        for j in range (10):\n",
    "            lst.append(i*j)\n",
    "    return lst\n",
    "\n"
   ]
  },
  {
   "cell_type": "code",
   "execution_count": 15,
   "metadata": {},
   "outputs": [],
   "source": [
    "a=['AMIT']\n",
    "b=['NANCY']\n",
    "\n",
    "for i in a:\n",
    "    for j in b:\n",
    "        if i==j:\n",
    "            print('1')\n",
    "            b.remove['j']\n",
    "            a.remove['i']"
   ]
  },
  {
   "cell_type": "code",
   "execution_count": 23,
   "metadata": {},
   "outputs": [
    {
     "name": "stdout",
     "output_type": "stream",
     "text": [
      "AMIT\n"
     ]
    }
   ],
   "source": [
    "for i,v in enumerate(a):\n",
    "    print(v)"
   ]
  },
  {
   "cell_type": "code",
   "execution_count": 30,
   "metadata": {},
   "outputs": [
    {
     "name": "stdout",
     "output_type": "stream",
     "text": [
      "A\n",
      "s\n",
      "h\n",
      "i\n",
      "s\n",
      "h\n",
      " \n",
      "i\n",
      "s\n",
      " \n",
      "n\n",
      "i\n",
      "c\n",
      "e\n",
      " \n"
     ]
    }
   ],
   "source": [
    "mylist=list(mystring)\n",
    "for item in mylist:\n",
    "    print(item)\n",
    "a=mystring.split(\" \")"
   ]
  },
  {
   "cell_type": "code",
   "execution_count": 36,
   "metadata": {},
   "outputs": [
    {
     "name": "stdout",
     "output_type": "stream",
     "text": [
      "<class 'str'>\n",
      "Ashish\n",
      "is\n",
      "nice\n",
      "\n"
     ]
    },
    {
     "data": {
      "text/plain": [
       "'Ashish is nice'"
      ]
     },
     "execution_count": 36,
     "metadata": {},
     "output_type": "execute_result"
    }
   ],
   "source": [
    "print(type(mystring))\n",
    "for i in a:\n",
    "    print (i)\n",
    "mystring.strip()    \n",
    "    "
   ]
  },
  {
   "cell_type": "code",
   "execution_count": 10,
   "metadata": {},
   "outputs": [
    {
     "data": {
      "text/plain": [
       "[('c', 4), ('b', 3), ('d', 2), ('a', 1)]"
      ]
     },
     "execution_count": 10,
     "metadata": {},
     "output_type": "execute_result"
    }
   ],
   "source": [
    "#Zip and dict\n",
    "a=('a','b','c','d')\n",
    "b=(1,3,4,2)\n",
    "x=dict(zip(a,b))\n",
    "sorted(x.items(),key=lambda x:x[1],reverse=True)"
   ]
  },
  {
   "cell_type": "code",
   "execution_count": 6,
   "metadata": {},
   "outputs": [
    {
     "data": {
      "text/plain": [
       "['qq', 'aa', 'as']"
      ]
     },
     "execution_count": 6,
     "metadata": {},
     "output_type": "execute_result"
    }
   ],
   "source": [
    "# copy and append \n",
    "s=['as','aa','qq']\n",
    "x=[]\n",
    "t=s.copy()\n",
    "for i in range(len(s)):\n",
    "    a=t.pop()\n",
    "    x.append(a)\n",
    "x    "
   ]
  },
  {
   "cell_type": "code",
   "execution_count": 12,
   "metadata": {},
   "outputs": [
    {
     "name": "stdout",
     "output_type": "stream",
     "text": [
      "Hello how are you ? I am fine new content\n"
     ]
    }
   ],
   "source": [
    "#File operation\n",
    "#Read and write in a file \n",
    "with open(\"dummy1.txt\",\"r+\") as myfile:\n",
    "    print(myfile.read())\n",
    "    myfile.write(\"new content\")\n",
    "myfile.close()"
   ]
  },
  {
   "cell_type": "code",
   "execution_count": 13,
   "metadata": {},
   "outputs": [
    {
     "name": "stdout",
     "output_type": "stream",
     "text": [
      "Hello how are you ? I am fine new contentnew content\n"
     ]
    }
   ],
   "source": [
    "with open(\"dummy1.txt\",\"r+\") as myfile:\n",
    "    print(myfile.read())"
   ]
  },
  {
   "cell_type": "code",
   "execution_count": 21,
   "metadata": {},
   "outputs": [
    {
     "name": "stdout",
     "output_type": "stream",
     "text": [
      "43\n",
      "0.027845284561782924\n",
      "8\n"
     ]
    }
   ],
   "source": [
    "#Random \n",
    "import random\n",
    "mylist=[12,43,54,21,34]\n",
    "print(random.choice(mylist))\n",
    "print(random.random())\n",
    "print(random.randrange(0,11,2))"
   ]
  },
  {
   "cell_type": "code",
   "execution_count": 35,
   "metadata": {},
   "outputs": [],
   "source": [
    "L3=L2.copy()\n",
    "for x in L1 :\n",
    "    if x in L3 :\n",
    "        ind=L3.index(x)\n",
    "        L2[ind]=0\n",
    "        "
   ]
  },
  {
   "cell_type": "code",
   "execution_count": 12,
   "metadata": {},
   "outputs": [
    {
     "name": "stdout",
     "output_type": "stream",
     "text": [
      "123\n",
      "333\n",
      "222\n"
     ]
    }
   ],
   "source": [
    "#iter\n",
    "out=[123,333,222]\n",
    "item=iter(out)    \n",
    "print(next(item))\n",
    "print(next(item))\n",
    "print(next(item))"
   ]
  },
  {
   "cell_type": "code",
   "execution_count": 17,
   "metadata": {},
   "outputs": [
    {
     "name": "stdout",
     "output_type": "stream",
     "text": [
      "3\n",
      "6\n"
     ]
    }
   ],
   "source": [
    "# Dictionary\n",
    "a=[{'a':{'x':2,'y':3},'b':{'x':5,'y':6}}]\n",
    "for k,v in enumerate(a):\n",
    "    for k1 in v.keys():\n",
    "        print(v[k1]['y'])"
   ]
  },
  {
   "cell_type": "code",
   "execution_count": 15,
   "metadata": {},
   "outputs": [
    {
     "data": {
      "text/plain": [
       "{'a': {'x': 2, 'y': 3}, 'b': {'x': 5, 'y': 6}}"
      ]
     },
     "execution_count": 15,
     "metadata": {},
     "output_type": "execute_result"
    }
   ],
   "source": [
    "v"
   ]
  },
  {
   "cell_type": "code",
   "execution_count": null,
   "metadata": {},
   "outputs": [],
   "source": [
    "#substring \n",
    "def sub(s):\n",
    "    for i in range(len(s)):\n",
    "        \n",
    "            out.append(s[i:])\n",
    "            out.append(s[:-i])\n",
    "    return out\n",
    "\n",
    "for i in range(len(s)-1):    \n",
    "    sub(s[i:])\n",
    "out=[i for i in out if i]\n",
    "set(out)\n"
   ]
  },
  {
   "cell_type": "code",
   "execution_count": 1,
   "metadata": {},
   "outputs": [],
   "source": [
    "import numpy as np"
   ]
  },
  {
   "cell_type": "code",
   "execution_count": 12,
   "metadata": {},
   "outputs": [
    {
     "data": {
      "text/plain": [
       "{'a': 0,\n",
       " 'c': 1,\n",
       " 'b': 2,\n",
       " 'e': 3,\n",
       " 'd': 4,\n",
       " 'f': 5,\n",
       " 'g': 6,\n",
       " 'h': 7,\n",
       " 'i': 8,\n",
       " 'j': 9}"
      ]
     },
     "execution_count": 12,
     "metadata": {},
     "output_type": "execute_result"
    }
   ],
   "source": [
    "x=np.arange(10)\n",
    "x\n",
    "y=np.array(['a','c','b','e','d','f','g','h','i','j'])\n",
    "a=dict(zip(y,x))\n",
    "a"
   ]
  },
  {
   "cell_type": "code",
   "execution_count": 27,
   "metadata": {},
   "outputs": [
    {
     "data": {
      "text/plain": [
       "[('c', 1), ('b', 2), ('e', 3), ('d', 4), ('f', 5)]"
      ]
     },
     "execution_count": 27,
     "metadata": {},
     "output_type": "execute_result"
    }
   ],
   "source": [
    "a['a']=20\n",
    "a['g']=60\n",
    "sorted(a.items(),key=lambda x:x[1])[:5]"
   ]
  },
  {
   "cell_type": "markdown",
   "metadata": {},
   "source": [
    "#### Sort elements in dictionary "
   ]
  },
  {
   "cell_type": "code",
   "execution_count": 28,
   "metadata": {},
   "outputs": [
    {
     "data": {
      "text/plain": [
       "['a', 'c', 'b', 'e', 'd', 'f', 'g', 'h', 'i', 'j']"
      ]
     },
     "execution_count": 28,
     "metadata": {},
     "output_type": "execute_result"
    }
   ],
   "source": [
    "dic = { key:value for key,value in zip(X_train2.columns,clf.feature_importances_)}\n",
    "ans =[key for key,_ in sorted(dic.items(),key = lambda item:item[1],reverse=True)[:5]]\n",
    "#sorted(a,key=lambda x: a.items(),reverse=True)\n",
    "#ans =[key for key,_ in sorted(dic.items(),key = lambda item:item[1],reverse=True)[:5]]"
   ]
  },
  {
   "cell_type": "code",
   "execution_count": 8,
   "metadata": {},
   "outputs": [
    {
     "data": {
      "text/plain": [
       "['', 'def', '']"
      ]
     },
     "execution_count": 8,
     "metadata": {},
     "output_type": "execute_result"
    }
   ],
   "source": [
    "s=\"abcdefabc\"\n",
    "a=s.split(\"abc\")\n",
    "a"
   ]
  },
  {
   "cell_type": "code",
   "execution_count": 7,
   "metadata": {},
   "outputs": [
    {
     "data": {
      "text/plain": [
       "'_def_'"
      ]
     },
     "execution_count": 7,
     "metadata": {},
     "output_type": "execute_result"
    }
   ],
   "source": [
    "\"_\".join(a)"
   ]
  },
  {
   "cell_type": "code",
   "execution_count": 9,
   "metadata": {},
   "outputs": [
    {
     "data": {
      "text/plain": [
       "['d', 'e', 'f']"
      ]
     },
     "execution_count": 9,
     "metadata": {},
     "output_type": "execute_result"
    }
   ],
   "source": [
    "x=s.replace(\"abc\",\"\")"
   ]
  },
  {
   "cell_type": "code",
   "execution_count": 10,
   "metadata": {},
   "outputs": [
    {
     "data": {
      "text/plain": [
       "['a', 's', 's', 's', 's', 's']"
      ]
     },
     "execution_count": 10,
     "metadata": {},
     "output_type": "execute_result"
    }
   ],
   "source": [
    "s=\"asssss\"\n",
    "c=[i for i in s]\n",
    "c"
   ]
  },
  {
   "cell_type": "code",
   "execution_count": 11,
   "metadata": {},
   "outputs": [],
   "source": [
    "x=list(s)"
   ]
  },
  {
   "cell_type": "code",
   "execution_count": 12,
   "metadata": {},
   "outputs": [
    {
     "data": {
      "text/plain": [
       "['a', 's', 's', 's', 's', 's']"
      ]
     },
     "execution_count": 12,
     "metadata": {},
     "output_type": "execute_result"
    }
   ],
   "source": [
    "x"
   ]
  },
  {
   "cell_type": "code",
   "execution_count": 13,
   "metadata": {},
   "outputs": [
    {
     "data": {
      "text/plain": [
       "'asssss'"
      ]
     },
     "execution_count": 13,
     "metadata": {},
     "output_type": "execute_result"
    }
   ],
   "source": [
    "\"\".join(x)"
   ]
  },
  {
   "cell_type": "code",
   "execution_count": 20,
   "metadata": {},
   "outputs": [
    {
     "data": {
      "text/plain": [
       "[]"
      ]
     },
     "execution_count": 20,
     "metadata": {},
     "output_type": "execute_result"
    }
   ],
   "source": [
    "f=open('./dummy1.txt')\n",
    "text=f.read()\n",
    "len(text.splitlines())"
   ]
  },
  {
   "cell_type": "markdown",
   "metadata": {},
   "source": [
    "###Regular Expressions \n",
    "\n",
    "#\\w # mathches [a-zA_Z0-9] \n",
    "#\\W # mathches ^[a-zA_Z0-9] \n",
    "#\\d # matched [0-9]\n",
    "#\\D # matches ^[0-9]\n",
    "#\\s # matches [  \\t\\n\\r\\v]\n",
    "\n",
    "##* - zero or multiple times \n",
    "##+ - one or multiple times \n",
    "##? - zero or one \n",
    "{n}"
   ]
  },
  {
   "cell_type": "code",
   "execution_count": 52,
   "metadata": {},
   "outputs": [
    {
     "data": {
      "text/plain": [
       "['12-05-2019', '12/09/2019']"
      ]
     },
     "execution_count": 52,
     "metadata": {},
     "output_type": "execute_result"
    }
   ],
   "source": [
    "import re\n",
    "s='12-05-2019 12/09/2019 23-Oct-1921 23-Jan-2000'\n",
    "a=s.split(\" \")\n",
    "\n",
    "re.findall(r'\\d{2}[/-]\\d{2}[/-]\\d{4}',s)"
   ]
  },
  {
   "cell_type": "code",
   "execution_count": 53,
   "metadata": {},
   "outputs": [
    {
     "data": {
      "text/plain": [
       "['Oct', 'Jan']"
      ]
     },
     "execution_count": 53,
     "metadata": {},
     "output_type": "execute_result"
    }
   ],
   "source": [
    "re.findall(r'\\d{2}[-\\s+](Oct|Jan)[-\\s+]\\d{4}',s)"
   ]
  },
  {
   "cell_type": "code",
   "execution_count": 54,
   "metadata": {},
   "outputs": [
    {
     "data": {
      "text/plain": [
       "['23-Oct-1921', '23-Jan-2000']"
      ]
     },
     "execution_count": 54,
     "metadata": {},
     "output_type": "execute_result"
    }
   ],
   "source": [
    "re.findall(r'\\d{2}[-\\s+](?:Oct|Jan)[-\\s+]\\d{4}',s)"
   ]
  },
  {
   "cell_type": "code",
   "execution_count": 4,
   "metadata": {},
   "outputs": [],
   "source": [
    "s=['Hello','ass','ass1']"
   ]
  },
  {
   "cell_type": "code",
   "execution_count": 5,
   "metadata": {},
   "outputs": [],
   "source": [
    "s[2]='ashi'"
   ]
  },
  {
   "cell_type": "code",
   "execution_count": 6,
   "metadata": {},
   "outputs": [
    {
     "data": {
      "text/plain": [
       "['Hello', 'ass', 'ashi']"
      ]
     },
     "execution_count": 6,
     "metadata": {},
     "output_type": "execute_result"
    }
   ],
   "source": [
    "s"
   ]
  },
  {
   "cell_type": "code",
   "execution_count": null,
   "metadata": {},
   "outputs": [],
   "source": []
  }
 ],
 "metadata": {
  "kernelspec": {
   "display_name": "Python 3",
   "language": "python",
   "name": "python3"
  },
  "language_info": {
   "codemirror_mode": {
    "name": "ipython",
    "version": 3
   },
   "file_extension": ".py",
   "mimetype": "text/x-python",
   "name": "python",
   "nbconvert_exporter": "python",
   "pygments_lexer": "ipython3",
   "version": "3.7.3"
  }
 },
 "nbformat": 4,
 "nbformat_minor": 2
}
